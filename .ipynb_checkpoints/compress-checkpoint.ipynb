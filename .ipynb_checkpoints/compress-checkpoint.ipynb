{
 "cells": [
  {
   "cell_type": "code",
   "execution_count": 4,
   "metadata": {},
   "outputs": [],
   "source": [
    "import struct\n",
    "import numpy as np"
   ]
  },
  {
   "cell_type": "code",
   "execution_count": 5,
   "metadata": {},
   "outputs": [],
   "source": [
    "def read_from_origin():\n",
    "    with open(\"origin_compression.txt\", 'r') as f:\n",
    "        source = f.read()\n",
    "    return source"
   ]
  },
  {
   "cell_type": "code",
   "execution_count": 49,
   "metadata": {},
   "outputs": [],
   "source": [
    "def split_data(data):\n",
    "    folds = []\n",
    "    ys = len(data) % 8\n",
    "    if ys != 0:\n",
    "        t_data += \"0\" * ys\n",
    "    size = len(data)\n",
    "    num_folds = int(size / 8)\n",
    "    i = 0\n",
    "    index_split = np.array_split(np.arange(size),indices_or_sections=num_folds)\n",
    "    for i in index_split:\n",
    "        cell = data[i[0]:i[-1] + 1]\n",
    "        folds.append(cell)\n",
    "    return folds"
   ]
  },
  {
   "cell_type": "code",
   "execution_count": 57,
   "metadata": {},
   "outputs": [],
   "source": [
    "def refine_list(data):\n",
    "    lists = []\n",
    "    for i in data:\n",
    "        if i not in lists:\n",
    "            lists.append(i)\n",
    "    return sorted(lists)"
   ]
  },
  {
   "cell_type": "code",
   "execution_count": 66,
   "metadata": {},
   "outputs": [],
   "source": [
    "def LWZ(list_bytes, dicts):\n",
    "    p = \"\"\n",
    "    result = []\n",
    "    last = 256\n",
    "    for c in list_bytes:\n",
    "        pc = p + c\n",
    "        if pc in dicts:\n",
    "            p = pc\n",
    "        else:\n",
    "            result.append(dicts[p])\n",
    "            dicts[pc] = last\n",
    "            last += 1\n",
    "            p = c\n",
    "    return result, dicts"
   ]
  },
  {
   "cell_type": "code",
   "execution_count": 79,
   "metadata": {},
   "outputs": [],
   "source": [
    "def convert_to_byte(result):\n",
    "    b_result = []\n",
    "    i = 0\n",
    "    code = \"\"\n",
    "    while i < len(result):\n",
    "        b_result.append(bin(result[i])[2:])\n",
    "        temp = bin(result[i])[2:]\n",
    "        code += temp\n",
    "        i = i + 1\n",
    "    return code"
   ]
  },
  {
   "cell_type": "code",
   "execution_count": 45,
   "metadata": {},
   "outputs": [
    {
     "name": "stdout",
     "output_type": "stream",
     "text": [
      "原始数据的长度： 271112\n",
      "<class 'str'>\n"
     ]
    }
   ],
   "source": [
    "source = read_from_origin()\n",
    "print(\"原始数据的长度：\",len(source))\n",
    "print(type(source))"
   ]
  },
  {
   "cell_type": "code",
   "execution_count": 50,
   "metadata": {},
   "outputs": [],
   "source": [
    "sdata = split_data(source)"
   ]
  },
  {
   "cell_type": "code",
   "execution_count": 51,
   "metadata": {},
   "outputs": [
    {
     "name": "stdout",
     "output_type": "stream",
     "text": [
      "33889\n"
     ]
    }
   ],
   "source": [
    "print(len(sdata))"
   ]
  },
  {
   "cell_type": "code",
   "execution_count": 64,
   "metadata": {},
   "outputs": [],
   "source": [
    "dicts = dict(zip(refine_list(sdata), [i for i in range(len(refine_list(sdata)))]))"
   ]
  },
  {
   "cell_type": "code",
   "execution_count": 70,
   "metadata": {},
   "outputs": [],
   "source": [
    "result, dicts = LWZ(sdata, dicts)"
   ]
  },
  {
   "cell_type": "code",
   "execution_count": 81,
   "metadata": {},
   "outputs": [
    {
     "name": "stdout",
     "output_type": "stream",
     "text": [
      "<class 'int'>\n",
      "0b100000000\n"
     ]
    }
   ],
   "source": [
    "code = convert_to_byte(result)"
   ]
  },
  {
   "cell_type": "code",
   "execution_count": null,
   "metadata": {},
   "outputs": [],
   "source": []
  }
 ],
 "metadata": {
  "kernelspec": {
   "display_name": "Python 3",
   "language": "python",
   "name": "python3"
  },
  "language_info": {
   "codemirror_mode": {
    "name": "ipython",
    "version": 3
   },
   "file_extension": ".py",
   "mimetype": "text/x-python",
   "name": "python",
   "nbconvert_exporter": "python",
   "pygments_lexer": "ipython3",
   "version": "3.7.0"
  }
 },
 "nbformat": 4,
 "nbformat_minor": 2
}
